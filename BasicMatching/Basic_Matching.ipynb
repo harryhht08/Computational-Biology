{
 "cells": [
  {
   "cell_type": "code",
   "execution_count": 2,
   "metadata": {},
   "outputs": [],
   "source": [
    "file = open('input', 'r')\n",
    "key, text = file.read().splitlines()\n",
    "file.close()\n",
    "pk = 0\n",
    "pt = 0\n",
    "end_key = len(key) - 1\n",
    "end_text = len(text) - 1\n",
    "output = []\n",
    "while pt <= end_text:\n",
    "    if key[pk] == text[pt] and pk == end_key:\n",
    "        output.append(pt - end_key)\n",
    "        pk = 0\n",
    "        pt += 1\n",
    "    elif key[pk] == text[pt]:\n",
    "        pk += 1\n",
    "        pt += 1\n",
    "    else:\n",
    "        pk = 0\n",
    "        pt += 1\n",
    "f = open('output','w')\n",
    "for ele in output:\n",
    "    f.write('%d ' % ele)\n",
    "f.close()"
   ]
  },
  {
   "cell_type": "code",
   "execution_count": null,
   "metadata": {},
   "outputs": [],
   "source": []
  }
 ],
 "metadata": {
  "kernelspec": {
   "display_name": "Python 3",
   "language": "python",
   "name": "python3"
  },
  "language_info": {
   "codemirror_mode": {
    "name": "ipython",
    "version": 3
   },
   "file_extension": ".py",
   "mimetype": "text/x-python",
   "name": "python",
   "nbconvert_exporter": "python",
   "pygments_lexer": "ipython3",
   "version": "3.7.3"
  }
 },
 "nbformat": 4,
 "nbformat_minor": 2
}
